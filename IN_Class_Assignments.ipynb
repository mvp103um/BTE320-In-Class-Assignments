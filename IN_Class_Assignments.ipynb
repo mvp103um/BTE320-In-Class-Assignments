{
  "nbformat": 4,
  "nbformat_minor": 0,
  "metadata": {
    "colab": {
      "provenance": [],
      "authorship_tag": "ABX9TyMSJvCBO9QShtZx+YGlVIrM",
      "include_colab_link": true
    },
    "kernelspec": {
      "name": "python3",
      "display_name": "Python 3"
    },
    "language_info": {
      "name": "python"
    }
  },
  "cells": [
    {
      "cell_type": "markdown",
      "metadata": {
        "id": "view-in-github",
        "colab_type": "text"
      },
      "source": [
        "<a href=\"https://colab.research.google.com/github/mvp103um/BTE320-In-Class-Assignments/blob/main/IN_Class_Assignments.ipynb\" target=\"_parent\"><img src=\"https://colab.research.google.com/assets/colab-badge.svg\" alt=\"Open In Colab\"/></a>"
      ]
    },
    {
      "cell_type": "code",
      "source": [
        "play = input(\"Would you like to play Rock, Paper, Scissors? Enter yes or no: \")\n",
        "\n",
        "while play == 'yes' or play == 'Yes':\n",
        "  print(\"\\nFor Rock, Paper, Scissors, choose 1 for Rock, 2 for Paper, and 3 for Scissors.\")\n",
        "  player1= int(input(\"Player 1, enter your choice for the game Rock, Paper, Scissors: \"))\n",
        "  player2= int(input(\"Player 2, enter your choice for the game Rock, Paper, Scissors: \"))\n",
        "\n",
        "  if player1 == player2:\n",
        "    print('\\nThe game is a tie. Try Again!')\n",
        "  elif (player1 == 1 and player2 == 3) or (player1 == 2 and player2 == 1) or (player1 == 3 and player2 == 2):\n",
        "    print('\\nThe game is over. Player 1 has Won!')\n",
        "  else:\n",
        "    print('\\nThe game is over. Player 2 has Won!')\n",
        "  play = input(\"\\nWould you like to play Rock, Paper, Scissors? Enter yes or no: \")\n"
      ],
      "metadata": {
        "colab": {
          "base_uri": "https://localhost:8080/"
        },
        "id": "A9Z3Gyg45Z6d",
        "outputId": "960b04e8-36b1-4f16-f33f-82d1fd1ea84f"
      },
      "execution_count": 6,
      "outputs": [
        {
          "name": "stdout",
          "output_type": "stream",
          "text": [
            "Would you like to play Rock, Paper, Scissors? Enter yes or no: yes\n",
            "\n",
            "For Rock, Paper, Scissors, choose 1 for Rock, 2 for Paper, and 3 for Scissors.\n",
            "Player 1, enter your choice for the game Rock, Paper, Scissors: 1\n",
            "Player 2, enter your choice for the game Rock, Paper, Scissors: 1\n",
            "\n",
            "The game is a tie. Try Again!\n",
            "\n",
            "Would you like to play Rock, Paper, Scissors? Enter yes or no: yes\n",
            "\n",
            "For Rock, Paper, Scissors, choose 1 for Rock, 2 for Paper, and 3 for Scissors.\n",
            "Player 1, enter your choice for the game Rock, Paper, Scissors: 3\n",
            "Player 2, enter your choice for the game Rock, Paper, Scissors: 2\n",
            "\n",
            "The game is over. Player 1 has Won!\n",
            "\n",
            "Would you like to play Rock, Paper, Scissors? Enter yes or no: no\n"
          ]
        }
      ]
    },
    {
      "cell_type": "code",
      "source": [
        "num1 = float(input(\"Enter your first number: \"))\n",
        "num2 = float(input(\"Enter your second number: \"))\n",
        "operation = input('Enter which operation you wish to use: ')\n",
        "\n",
        "\n",
        "if operation == 'Addition' or operation == '+':\n",
        "  result = num1 + num2\n",
        "  print(result)\n",
        "elif operation == 'Subtraction' or operation == '-':\n",
        "  result = num1 - num2\n",
        "  print(result)\n",
        "elif operation == 'Multiplication' or operation == 'x' or operation == '*':\n",
        "  result = num1 * num2\n",
        "  print(result)\n",
        "elif operation == 'Division' or operation == '/':\n",
        "  result = num1/num2\n",
        "  print(result)\n",
        "elif operation == 'Exponent' or operation == '**' or operation == 'Power':\n",
        "  result = num1**num2\n",
        "  print(result)\n",
        "else:\n",
        "  print(\"Error. Please try again.\")"
      ],
      "metadata": {
        "colab": {
          "base_uri": "https://localhost:8080/"
        },
        "id": "BzZGMnlZ6X_v",
        "outputId": "2b909c29-8382-4719-c230-4c3e354616d6"
      },
      "execution_count": 5,
      "outputs": [
        {
          "output_type": "stream",
          "name": "stdout",
          "text": [
            "Enter your first number: 2\n",
            "Enter your second number: 3\n",
            "Enter which operation you wish to use: Power\n",
            "8.0\n"
          ]
        }
      ]
    },
    {
      "cell_type": "code",
      "source": [
        "\n",
        "\n",
        "pi = 3.14\n",
        "h = 10\n",
        "r = 3\n",
        "area = 2 * pi * r ** 2 + 2 * pi * r * h\n",
        "print(area)\n",
        "\n",
        "\n",
        "\n",
        "import math\n",
        "r = int(input(\"Enter your radius: \"))\n",
        "Area = math.pi*r**2\n",
        "\n",
        "\n",
        "print(\"Area is %.1f sq ft.\" % Area, end='\\n')\n"
      ],
      "metadata": {
        "colab": {
          "base_uri": "https://localhost:8080/"
        },
        "id": "vbCETLzX5IVz",
        "outputId": "50092109-af01-4520-9fe4-c276c81b0067"
      },
      "execution_count": 36,
      "outputs": [
        {
          "output_type": "stream",
          "name": "stdout",
          "text": [
            "Enter your radius: 5\n",
            "Area is 78.5 sq ft.\n"
          ]
        }
      ]
    },
    {
      "cell_type": "code",
      "source": [
        "rate = 5\n",
        "\n",
        "for t in range(1,9):\n",
        "  charge = rate + 2.5 * t\n",
        "  if charge < 10:\n",
        "    charge = 10\n",
        "  elif charge > 20:\n",
        "    charge = 20\n",
        "  print(t, charge)"
      ],
      "metadata": {
        "colab": {
          "base_uri": "https://localhost:8080/"
        },
        "id": "HppRf9l16oU-",
        "outputId": "c28576e6-494e-4766-ef11-ffbaa7d201c3"
      },
      "execution_count": 8,
      "outputs": [
        {
          "output_type": "stream",
          "name": "stdout",
          "text": [
            "1 10\n",
            "2 10.0\n",
            "3 12.5\n",
            "4 15.0\n",
            "5 17.5\n",
            "6 20.0\n",
            "7 20\n",
            "8 20\n"
          ]
        }
      ]
    },
    {
      "cell_type": "code",
      "source": [
        "ticket = 10\n",
        "fixed_cost = 200\n",
        "starting_attendees = 20\n",
        "ad = 0\n",
        "\n",
        "while ad < 201:\n",
        "  profit = 10 * (starting_attendees + 2 * round(ad ** 0.5)) - fixed_cost - ad\n",
        "  ad = ad +25\n",
        "  print(ad, profit)"
      ],
      "metadata": {
        "colab": {
          "base_uri": "https://localhost:8080/"
        },
        "id": "rHgwec--7Pai",
        "outputId": "f3f846ae-d3b0-44dd-d3c1-9e5a54488b12"
      },
      "execution_count": 13,
      "outputs": [
        {
          "output_type": "stream",
          "name": "stdout",
          "text": [
            "25 0\n",
            "50 75\n",
            "75 90\n",
            "100 105\n",
            "125 100\n",
            "150 95\n",
            "175 90\n",
            "200 85\n",
            "225 80\n"
          ]
        }
      ]
    },
    {
      "cell_type": "code",
      "source": [
        "months= {}\n",
        "\n",
        "names = ['Jan', 'Feb', 'Mar', 'Apr', 'May', 'Jun', 'Jul', 'Aug', 'Sep', 'Oct', 'Nov', 'Dec']\n",
        "number = [1,2,3,4,5,6,7,8,9,10,11,12]\n",
        "\n",
        "for item in range(12):\n",
        "  months[number[item]]= names[item]\n",
        "\n",
        "print(months)\n"
      ],
      "metadata": {
        "colab": {
          "base_uri": "https://localhost:8080/"
        },
        "id": "g8OW3yMr746Q",
        "outputId": "6b731d25-c2d8-4382-83c3-b28896cb2923"
      },
      "execution_count": 40,
      "outputs": [
        {
          "output_type": "stream",
          "name": "stdout",
          "text": [
            "{1: 'Jan', 2: 'Feb', 3: 'Mar', 4: 'Apr', 5: 'May', 6: 'Jun', 7: 'Jul', 8: 'Aug', 9: 'Sep', 10: 'Oct', 11: 'Nov', 12: 'Dec'}\n"
          ]
        }
      ]
    },
    {
      "cell_type": "code",
      "source": [
        "class Student:\n",
        "  def __init__(self, name, number):\n",
        "    self.name = name\n",
        "    self.number = number\n",
        "  def describe(self):\n",
        "    print(f\"Student's name is {self.name}\")\n",
        "\n",
        "j = Student('James Bond', '007')\n",
        "c = Student('Clark Kent', '333')\n",
        "\n",
        "j.describe()\n",
        "c.describe()"
      ],
      "metadata": {
        "colab": {
          "base_uri": "https://localhost:8080/"
        },
        "id": "mDlOf6sS8y7l",
        "outputId": "68d6add7-1494-43ca-cc95-dc1694af1770"
      },
      "execution_count": 42,
      "outputs": [
        {
          "output_type": "stream",
          "name": "stdout",
          "text": [
            "Student's name is James Bond\n",
            "Student's name is Clark Kent\n"
          ]
        }
      ]
    },
    {
      "cell_type": "code",
      "source": [
        "user_input = str(input(\"Enter the text you wished reversed: \"))\n",
        "\n",
        "def reverse(n):\n",
        "  if len(n) == 1:\n",
        "    return n\n",
        "  else:\n",
        "    return n[-1] + reverse(n[:-1])\n",
        "\n",
        "reverse(user_input)"
      ],
      "metadata": {
        "colab": {
          "base_uri": "https://localhost:8080/",
          "height": 52
        },
        "id": "PT68Vh1k-ZjY",
        "outputId": "9c91f305-06c7-4a34-e24e-beb457be0adb"
      },
      "execution_count": 43,
      "outputs": [
        {
          "name": "stdout",
          "output_type": "stream",
          "text": [
            "Enter the text you wished reversed: Hello world\n"
          ]
        },
        {
          "output_type": "execute_result",
          "data": {
            "text/plain": [
              "'dlrow olleH'"
            ],
            "application/vnd.google.colaboratory.intrinsic+json": {
              "type": "string"
            }
          },
          "metadata": {},
          "execution_count": 43
        }
      ]
    },
    {
      "cell_type": "code",
      "source": [
        "month = 0\n",
        "current_savings = 0\n",
        "portion_down_payment = 0.25\n",
        "rate = 0.04\n",
        "total_cost = float(input(\"How much does your dream house cost in $: \"))\n",
        "annual_salary = float(input(\"What is your annual salary in $: \"))\n",
        "portion_saved = float(input(\"What portion of your salary will you save (as a decimal): \"))\n",
        "\n",
        "down_payment = total_cost * portion_down_payment\n",
        "monthly_salary = annual_salary / 12\n",
        "\n",
        "while current_savings < down_payment:\n",
        "    current_savings += current_savings * (rate / 12)\n",
        "    current_savings += portion_saved * monthly_salary\n",
        "    month += 1\n",
        "\n",
        "print(f\"Number of months: {month}\")"
      ],
      "metadata": {
        "colab": {
          "base_uri": "https://localhost:8080/"
        },
        "id": "Gc7N02Ge_De6",
        "outputId": "8bc8ebe2-9f1e-4c35-df1e-23bed9c6cc2a"
      },
      "execution_count": 45,
      "outputs": [
        {
          "output_type": "stream",
          "name": "stdout",
          "text": [
            "How much does your dream house cost in $: 1000000\n",
            "What is your annual salary in $: 120000\n",
            "What portion of your salary will you save (as a decimal): .10\n",
            "Number of months: 183\n"
          ]
        }
      ]
    }
  ]
}