{
  "nbformat": 4,
  "nbformat_minor": 0,
  "metadata": {
    "colab": {
      "provenance": [],
      "authorship_tag": "ABX9TyO35Dn7o2OqVnP6OKfcB8co",
      "include_colab_link": true
    },
    "kernelspec": {
      "name": "python3",
      "display_name": "Python 3"
    },
    "language_info": {
      "name": "python"
    }
  },
  "cells": [
    {
      "cell_type": "markdown",
      "metadata": {
        "id": "view-in-github",
        "colab_type": "text"
      },
      "source": [
        "<a href=\"https://colab.research.google.com/github/mvp103um/BTE320-In-Class-Assignments/blob/main/IN_Class_Assignments.ipynb\" target=\"_parent\"><img src=\"https://colab.research.google.com/assets/colab-badge.svg\" alt=\"Open In Colab\"/></a>"
      ]
    },
    {
      "cell_type": "code",
      "execution_count": 9,
      "metadata": {
        "id": "Ed0Jkb_Lyh_3",
        "colab": {
          "base_uri": "https://localhost:8080/"
        },
        "outputId": "2d5ce695-d4a4-4718-e420-9a4a97cd6b87"
      },
      "outputs": [
        {
          "output_type": "stream",
          "name": "stdout",
          "text": [
            "Enter your first number: 12\n",
            "Enter your second number: 2\n",
            "Enter which operation you wish to use: /\n",
            "6.0\n"
          ]
        }
      ],
      "source": [
        "#Command + Control + /\n",
        "\n",
        "\n",
        "#Area of a cylinder\n",
        "# pi = 3.14\n",
        "# h = 10\n",
        "# r = 3\n",
        "# area = 2 * pi * r ** 2 + 2 * pi * r * h\n",
        "# print(area)\n",
        "\n",
        "\n",
        "\n",
        "# print(\"For Rock, Paper, Scissors, choose 1 for Rock, 2 for Paper, and 3 for Scissors.\")\n",
        "# player1= int(input(\"Player 1, enter your choice for the game Rock, Paper, Scissors: \"))\n",
        "# player2= int(input(\"Player 2, enter your choice for the game Rock, Paper, Scissors: \"))\n",
        "\n",
        "# if player1 == player2:\n",
        "#   print('The game is a tie. Try Again!')\n",
        "# elif (player1 == 1 and player2 == 3) or (player1 == 2 and player2 == 1) or (player1 == 3 and player2 == 2):\n",
        "#   print('The game is over. Player 1 has Won!')\n",
        "# else:\n",
        "#   print('The game is over. Player 2 has Won!')\n",
        "\n",
        "\n",
        "num1 = float(input(\"Enter your first number: \"))\n",
        "num2 = float(input(\"Enter your second number: \"))\n",
        "operation = input('Enter which operation you wish to use: ')\n",
        "\n",
        "\n",
        "if operation == 'Addition' or operation == '+':\n",
        "  result = num1 + num2\n",
        "  print(result)\n",
        "elif operation == 'Subtraction' or operation == '-':\n",
        "  result = num1 - num2\n",
        "  print(result)\n",
        "elif operation == 'Multiplication' or operation == 'x' or operation == '*':\n",
        "  result = num1 * num2\n",
        "  print(result)\n",
        "elif operation == 'Division' or operation == '/':\n",
        "  result = num1/num2\n",
        "  print(result)\n",
        "else:\n",
        "  print(\"Error. Please try again.\")\n",
        "\n",
        "\n",
        "\n",
        "\n"
      ]
    }
  ]
}