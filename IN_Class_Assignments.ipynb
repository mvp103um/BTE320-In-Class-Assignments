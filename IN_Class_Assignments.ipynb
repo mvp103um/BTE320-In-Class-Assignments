{
  "nbformat": 4,
  "nbformat_minor": 0,
  "metadata": {
    "colab": {
      "provenance": [],
      "authorship_tag": "ABX9TyNgj90pBToEvpVLtDw4t8gI",
      "include_colab_link": true
    },
    "kernelspec": {
      "name": "python3",
      "display_name": "Python 3"
    },
    "language_info": {
      "name": "python"
    }
  },
  "cells": [
    {
      "cell_type": "markdown",
      "metadata": {
        "id": "view-in-github",
        "colab_type": "text"
      },
      "source": [
        "<a href=\"https://colab.research.google.com/github/mvp103um/BTE320-In-Class-Assignments/blob/main/IN_Class_Assignments.ipynb\" target=\"_parent\"><img src=\"https://colab.research.google.com/assets/colab-badge.svg\" alt=\"Open In Colab\"/></a>"
      ]
    },
    {
      "cell_type": "code",
      "execution_count": 33,
      "metadata": {
        "id": "Ed0Jkb_Lyh_3",
        "colab": {
          "base_uri": "https://localhost:8080/"
        },
        "outputId": "8a3a8f2f-fc40-479a-f926-ca8138a27070"
      },
      "outputs": [
        {
          "output_type": "stream",
          "name": "stdout",
          "text": [
            "25 0\n",
            "50 75\n",
            "75 90\n",
            "100 105\n",
            "125 100\n",
            "150 95\n",
            "175 90\n",
            "200 85\n",
            "225 80\n"
          ]
        }
      ],
      "source": [
        "#Command + Control + /\n",
        "\n",
        "\n",
        "#Area of a cylinder\n",
        "# pi = 3.14\n",
        "# h = 10\n",
        "# r = 3\n",
        "# area = 2 * pi * r ** 2 + 2 * pi * r * h\n",
        "# print(area)\n",
        "\n",
        "\n",
        "\n",
        "# print(\"For Rock, Paper, Scissors, choose 1 for Rock, 2 for Paper, and 3 for Scissors.\")\n",
        "# player1= int(input(\"Player 1, enter your choice for the game Rock, Paper, Scissors: \"))\n",
        "# player2= int(input(\"Player 2, enter your choice for the game Rock, Paper, Scissors: \"))\n",
        "\n",
        "# if player1 == player2:\n",
        "#   print('The game is a tie. Try Again!')\n",
        "# elif (player1 == 1 and player2 == 3) or (player1 == 2 and player2 == 1) or (player1 == 3 and player2 == 2):\n",
        "#   print('The game is over. Player 1 has Won!')\n",
        "# else:\n",
        "#   print('The game is over. Player 2 has Won!')\n",
        "\n",
        "\n",
        "# num1 = float(input(\"Enter your first number: \"))\n",
        "# num2 = float(input(\"Enter your second number: \"))\n",
        "# operation = input('Enter which operation you wish to use: ')\n",
        "\n",
        "\n",
        "# if operation == 'Addition' or operation == '+':\n",
        "#   result = num1 + num2\n",
        "#   print(result)\n",
        "# elif operation == 'Subtraction' or operation == '-':\n",
        "#   result = num1 - num2\n",
        "#   print(result)\n",
        "# elif operation == 'Multiplication' or operation == 'x' or operation == '*':\n",
        "#   result = num1 * num2\n",
        "#   print(result)\n",
        "# elif operation == 'Division' or operation == '/':\n",
        "#   result = num1/num2\n",
        "#   print(result)\n",
        "# elif operation == 'Exponent' or operation == '**' or operation == 'Power'\n",
        "#   result = num1**num2\n",
        "#   print(result)\n",
        "# else:\n",
        "#   print(\"Error. Please try again.\")\n",
        "\n",
        "\n",
        "\n",
        "# play = input(\"Would you like to play Rock, Paper, Scissors? Enter yes or no: \")\n",
        "\n",
        "# while play == 'yes' or play == 'Yes':\n",
        "#   print(\"\\nFor Rock, Paper, Scissors, choose 1 for Rock, 2 for Paper, and 3 for Scissors.\")\n",
        "#   player1= int(input(\"Player 1, enter your choice for the game Rock, Paper, Scissors: \"))\n",
        "#   player2= int(input(\"Player 2, enter your choice for the game Rock, Paper, Scissors: \"))\n",
        "\n",
        "#   if player1 == player2:\n",
        "#     print('\\nThe game is a tie. Try Again!')\n",
        "#   elif (player1 == 1 and player2 == 3) or (player1 == 2 and player2 == 1) or (player1 == 3 and player2 == 2):\n",
        "#     print('\\nThe game is over. Player 1 has Won!')\n",
        "#   else:\n",
        "#     print('\\nThe game is over. Player 2 has Won!')\n",
        "#   play = input(\"\\nWould you like to play Rock, Paper, Scissors? Enter yes or no: \")\n",
        "\n",
        "\n",
        "# rate = 5\n",
        "\n",
        "# for t in range(1,9):\n",
        "#   charge = rate + 2.5 * t\n",
        "#   if charge < 10:\n",
        "#     charge = 10\n",
        "#   elif charge > 20:\n",
        "#     charge = 20\n",
        "#   print(t, charge)\n",
        "\n",
        "\n",
        "# ticket = 10\n",
        "# fixed_cost = 200\n",
        "# starting_attendees = 20\n",
        "# print('Ad$  Profit')\n",
        "# for t in range(0, 201, 25):\n",
        "#   ad_cost = float(round(t))\n",
        "#   profit = float(10 * (20 + 2 * round(ad_cost**0.5)) - fixed_cost - ad_cost)\n",
        "#   round(profit, 2)\n",
        "#   print(f'{ad_cost}  {profit}')\n",
        "\n",
        "\n",
        "\n",
        "# ticket = 10\n",
        "# fixed_cost = 200\n",
        "# starting_attendees = 20\n",
        "# ad = 0\n",
        "\n",
        "# while ad < 201:\n",
        "#   profit = 10 * (starting_attendees + 2 * round(ad ** 0.5)) - fixed_cost - ad\n",
        "#   ad = ad +25\n",
        "#   print(ad, profit)\n",
        "\n"
      ]
    }
  ]
}